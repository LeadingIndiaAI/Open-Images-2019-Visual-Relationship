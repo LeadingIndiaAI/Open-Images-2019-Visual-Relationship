{
  "nbformat": 4,
  "nbformat_minor": 0,
  "metadata": {
    "colab": {
      "name": "attribute",
      "version": "0.3.2",
      "provenance": [],
      "collapsed_sections": []
    },
    "kernelspec": {
      "name": "python3",
      "display_name": "Python 3"
    },
    "accelerator": "GPU"
  },
  "cells": [
    {
      "cell_type": "code",
      "metadata": {
        "id": "F2RAiREKoOMl",
        "colab_type": "code",
        "colab": {}
      },
      "source": [
        "import os\n",
        "import cv2"
      ],
      "execution_count": 0,
      "outputs": []
    },
    {
      "cell_type": "code",
      "metadata": {
        "id": "hcXlrTFNbsQ-",
        "colab_type": "code",
        "outputId": "aa2a649c-ac59-42f4-97c9-1a19a36b48cc",
        "colab": {
          "base_uri": "https://localhost:8080/",
          "height": 34
        }
      },
      "source": [
        "import keras\n",
        "from keras.models import Sequential\n",
        "from keras.layers import Dense, Dropout, Flatten\n",
        "from keras.layers import Conv2D, MaxPooling2D\n",
        "from keras.utils import to_categorical\n",
        "from keras.preprocessing import image\n",
        "import numpy as np\n",
        "import pandas as pd\n",
        "import matplotlib.pyplot as plt\n",
        "from sklearn.model_selection import train_test_split\n",
        "from tqdm import tqdm\n",
        "%matplotlib inline"
      ],
      "execution_count": 0,
      "outputs": [
        {
          "output_type": "stream",
          "text": [
            "Using TensorFlow backend.\n"
          ],
          "name": "stderr"
        }
      ]
    },
    {
      "cell_type": "code",
      "metadata": {
        "id": "2xYYEpwufz54",
        "colab_type": "code",
        "outputId": "6303fa61-4333-4e24-b072-ef8f2194c5d6",
        "colab": {
          "base_uri": "https://localhost:8080/",
          "height": 123
        }
      },
      "source": [
        "# Run this cell to mount your Google Drive.\n",
        "from google.colab import drive\n",
        "drive.mount('/content/drive')\n"
      ],
      "execution_count": 0,
      "outputs": [
        {
          "output_type": "stream",
          "text": [
            "Go to this URL in a browser: https://accounts.google.com/o/oauth2/auth?client_id=947318989803-6bn6qk8qdgf4n4g3pfee6491hc0brc4i.apps.googleusercontent.com&redirect_uri=urn%3Aietf%3Awg%3Aoauth%3A2.0%3Aoob&scope=email%20https%3A%2F%2Fwww.googleapis.com%2Fauth%2Fdocs.test%20https%3A%2F%2Fwww.googleapis.com%2Fauth%2Fdrive%20https%3A%2F%2Fwww.googleapis.com%2Fauth%2Fdrive.photos.readonly%20https%3A%2F%2Fwww.googleapis.com%2Fauth%2Fpeopleapi.readonly&response_type=code\n",
            "\n",
            "Enter your authorization code:\n",
            "··········\n",
            "Mounted at /content/drive\n"
          ],
          "name": "stdout"
        }
      ]
    },
    {
      "cell_type": "code",
      "metadata": {
        "id": "IGs8a-JfjS3Y",
        "colab_type": "code",
        "outputId": "c8c0f0d6-a7a6-4966-df63-a4358e9d603c",
        "colab": {
          "base_uri": "https://localhost:8080/",
          "height": 34
        }
      },
      "source": [
        "cd .."
      ],
      "execution_count": 0,
      "outputs": [
        {
          "output_type": "stream",
          "text": [
            "/\n"
          ],
          "name": "stdout"
        }
      ]
    },
    {
      "cell_type": "code",
      "metadata": {
        "id": "Aekps0oghWAU",
        "colab_type": "code",
        "outputId": "488e78d6-f93d-48f1-ea6b-c2a06b37c125",
        "colab": {
          "base_uri": "https://localhost:8080/",
          "height": 34
        }
      },
      "source": [
        "cd content/drive/My Drive/PATH_TO_OUTPUT/vrd01"
      ],
      "execution_count": 0,
      "outputs": [
        {
          "output_type": "stream",
          "text": [
            "/content/drive/My Drive/PATH_TO_OUTPUT/vrd01\n"
          ],
          "name": "stdout"
        }
      ]
    },
    {
      "cell_type": "code",
      "metadata": {
        "id": "R_Za7Vp7hG8p",
        "colab_type": "code",
        "colab": {}
      },
      "source": [
        "df=pd.read_csv('challenge-2018-train-vrd.csv')"
      ],
      "execution_count": 0,
      "outputs": []
    },
    {
      "cell_type": "code",
      "metadata": {
        "id": "BnQl_Uw8goej",
        "colab_type": "code",
        "colab": {}
      },
      "source": [
        "df_train=df"
      ],
      "execution_count": 0,
      "outputs": []
    },
    {
      "cell_type": "code",
      "metadata": {
        "id": "BAs1gMP0SVip",
        "colab_type": "code",
        "colab": {}
      },
      "source": [
        "images=df_train['ImageID'].values.tolist()"
      ],
      "execution_count": 0,
      "outputs": []
    },
    {
      "cell_type": "code",
      "metadata": {
        "id": "O4-jDK38SVTN",
        "colab_type": "code",
        "outputId": "ff995cab-5ee0-4c47-febc-7310a47d5aad",
        "colab": {
          "base_uri": "https://localhost:8080/",
          "height": 234
        }
      },
      "source": [
        "train_image = []\n",
        "\n",
        "for i in images:\n",
        "  img = cv2.imread(\"drive/My Drive/PATH_TO_OUTPUT/MELVIN2/\"+i+\".jpg\")\n",
        "  x1=int(img.shape[0]*(bb['XMin'][i]))\n",
        "  x2=int(img.shape[0]*(bb['XMax'][i]))\n",
        "  y1=int(img.shape[0]*(bb['YMin'][i]))\n",
        "  y2=int(img.shape[0]*(bb['YMax'][i]))\n",
        "\n",
        "  crop_img = img[y1:y2,x1:x2]\n",
        "  crop_img = image.load_img(crop_img+'.jpg',target_size=(400,400,3))\n",
        "  crop_img = image.img_to_array(crop_img)\n",
        "  crop_img = crop_img/255\n",
        "  train_image.append(crop_img)\n",
        "X = np.array(train_image)"
      ],
      "execution_count": 0,
      "outputs": [
        {
          "output_type": "error",
          "ename": "AttributeError",
          "evalue": "ignored",
          "traceback": [
            "\u001b[0;31m---------------------------------------------------------------------------\u001b[0m",
            "\u001b[0;31mAttributeError\u001b[0m                            Traceback (most recent call last)",
            "\u001b[0;32m<ipython-input-12-609fc408d597>\u001b[0m in \u001b[0;36m<module>\u001b[0;34m()\u001b[0m\n\u001b[1;32m      3\u001b[0m \u001b[0;32mfor\u001b[0m \u001b[0mi\u001b[0m \u001b[0;32min\u001b[0m \u001b[0mimages\u001b[0m\u001b[0;34m:\u001b[0m\u001b[0;34m\u001b[0m\u001b[0;34m\u001b[0m\u001b[0m\n\u001b[1;32m      4\u001b[0m   \u001b[0mimg\u001b[0m \u001b[0;34m=\u001b[0m \u001b[0mcv2\u001b[0m\u001b[0;34m.\u001b[0m\u001b[0mimread\u001b[0m\u001b[0;34m(\u001b[0m\u001b[0;34m\"drive/My Drive/PATH_TO_OUTPUT/MELVIN2/\"\u001b[0m\u001b[0;34m+\u001b[0m\u001b[0;34m'0c84bd6d31150280'\u001b[0m\u001b[0;34m+\u001b[0m\u001b[0;34m\".jpg\"\u001b[0m\u001b[0;34m)\u001b[0m\u001b[0;34m\u001b[0m\u001b[0;34m\u001b[0m\u001b[0m\n\u001b[0;32m----> 5\u001b[0;31m   \u001b[0mx1\u001b[0m\u001b[0;34m=\u001b[0m\u001b[0mint\u001b[0m\u001b[0;34m(\u001b[0m\u001b[0mimg\u001b[0m\u001b[0;34m.\u001b[0m\u001b[0mshape\u001b[0m\u001b[0;34m[\u001b[0m\u001b[0;36m0\u001b[0m\u001b[0;34m]\u001b[0m\u001b[0;34m*\u001b[0m\u001b[0;34m(\u001b[0m\u001b[0mbb\u001b[0m\u001b[0;34m[\u001b[0m\u001b[0;34m'XMin'\u001b[0m\u001b[0;34m]\u001b[0m\u001b[0;34m[\u001b[0m\u001b[0mi\u001b[0m\u001b[0;34m]\u001b[0m\u001b[0;34m)\u001b[0m\u001b[0;34m)\u001b[0m\u001b[0;34m\u001b[0m\u001b[0;34m\u001b[0m\u001b[0m\n\u001b[0m\u001b[1;32m      6\u001b[0m   \u001b[0mx2\u001b[0m\u001b[0;34m=\u001b[0m\u001b[0mint\u001b[0m\u001b[0;34m(\u001b[0m\u001b[0mimg\u001b[0m\u001b[0;34m.\u001b[0m\u001b[0mshape\u001b[0m\u001b[0;34m[\u001b[0m\u001b[0;36m0\u001b[0m\u001b[0;34m]\u001b[0m\u001b[0;34m*\u001b[0m\u001b[0;34m(\u001b[0m\u001b[0mbb\u001b[0m\u001b[0;34m[\u001b[0m\u001b[0;34m'XMax'\u001b[0m\u001b[0;34m]\u001b[0m\u001b[0;34m[\u001b[0m\u001b[0mi\u001b[0m\u001b[0;34m]\u001b[0m\u001b[0;34m)\u001b[0m\u001b[0;34m)\u001b[0m\u001b[0;34m\u001b[0m\u001b[0;34m\u001b[0m\u001b[0m\n\u001b[1;32m      7\u001b[0m   \u001b[0my1\u001b[0m\u001b[0;34m=\u001b[0m\u001b[0mint\u001b[0m\u001b[0;34m(\u001b[0m\u001b[0mimg\u001b[0m\u001b[0;34m.\u001b[0m\u001b[0mshape\u001b[0m\u001b[0;34m[\u001b[0m\u001b[0;36m0\u001b[0m\u001b[0;34m]\u001b[0m\u001b[0;34m*\u001b[0m\u001b[0;34m(\u001b[0m\u001b[0mbb\u001b[0m\u001b[0;34m[\u001b[0m\u001b[0;34m'YMin'\u001b[0m\u001b[0;34m]\u001b[0m\u001b[0;34m[\u001b[0m\u001b[0mi\u001b[0m\u001b[0;34m]\u001b[0m\u001b[0;34m)\u001b[0m\u001b[0;34m)\u001b[0m\u001b[0;34m\u001b[0m\u001b[0;34m\u001b[0m\u001b[0m\n",
            "\u001b[0;31mAttributeError\u001b[0m: 'NoneType' object has no attribute 'shape'"
          ]
        }
      ]
    },
    {
      "cell_type": "code",
      "metadata": {
        "id": "Yytvh086KvIQ",
        "colab_type": "code",
        "outputId": "4a2cbde8-b33f-4322-ed69-c380dbab7d36",
        "colab": {
          "base_uri": "https://localhost:8080/",
          "height": 202
        }
      },
      "source": [
        "df_train.head()"
      ],
      "execution_count": 0,
      "outputs": [
        {
          "output_type": "execute_result",
          "data": {
            "text/html": [
              "<div>\n",
              "<style scoped>\n",
              "    .dataframe tbody tr th:only-of-type {\n",
              "        vertical-align: middle;\n",
              "    }\n",
              "\n",
              "    .dataframe tbody tr th {\n",
              "        vertical-align: top;\n",
              "    }\n",
              "\n",
              "    .dataframe thead th {\n",
              "        text-align: right;\n",
              "    }\n",
              "</style>\n",
              "<table border=\"1\" class=\"dataframe\">\n",
              "  <thead>\n",
              "    <tr style=\"text-align: right;\">\n",
              "      <th></th>\n",
              "      <th>ImageID</th>\n",
              "      <th>LabelName1</th>\n",
              "      <th>LabelName2</th>\n",
              "      <th>XMin1</th>\n",
              "      <th>XMax1</th>\n",
              "      <th>YMin1</th>\n",
              "      <th>YMax1</th>\n",
              "      <th>XMin2</th>\n",
              "      <th>XMax2</th>\n",
              "      <th>YMin2</th>\n",
              "      <th>YMax2</th>\n",
              "      <th>RelationshipLabel</th>\n",
              "    </tr>\n",
              "  </thead>\n",
              "  <tbody>\n",
              "    <tr>\n",
              "      <th>0</th>\n",
              "      <td>fe58ec1b06db2bb7</td>\n",
              "      <td>/m/04bcr3</td>\n",
              "      <td>/m/083vt</td>\n",
              "      <td>0.00500</td>\n",
              "      <td>0.033125</td>\n",
              "      <td>0.580000</td>\n",
              "      <td>0.627778</td>\n",
              "      <td>0.00500</td>\n",
              "      <td>0.033125</td>\n",
              "      <td>0.580000</td>\n",
              "      <td>0.627778</td>\n",
              "      <td>is</td>\n",
              "    </tr>\n",
              "    <tr>\n",
              "      <th>1</th>\n",
              "      <td>82d16a22f703df5c</td>\n",
              "      <td>/m/04dr76w</td>\n",
              "      <td>/m/02gy9n</td>\n",
              "      <td>0.61200</td>\n",
              "      <td>0.735000</td>\n",
              "      <td>0.418919</td>\n",
              "      <td>0.950450</td>\n",
              "      <td>0.61200</td>\n",
              "      <td>0.735000</td>\n",
              "      <td>0.418919</td>\n",
              "      <td>0.950450</td>\n",
              "      <td>is</td>\n",
              "    </tr>\n",
              "    <tr>\n",
              "      <th>2</th>\n",
              "      <td>b54d41beabcfd900</td>\n",
              "      <td>/m/01mzpv</td>\n",
              "      <td>/m/083vt</td>\n",
              "      <td>0.37250</td>\n",
              "      <td>0.399375</td>\n",
              "      <td>0.706413</td>\n",
              "      <td>0.778557</td>\n",
              "      <td>0.37250</td>\n",
              "      <td>0.399375</td>\n",
              "      <td>0.706413</td>\n",
              "      <td>0.778557</td>\n",
              "      <td>is</td>\n",
              "    </tr>\n",
              "    <tr>\n",
              "      <th>3</th>\n",
              "      <td>4b6a08cc110d7275</td>\n",
              "      <td>/m/01mzpv</td>\n",
              "      <td>/m/01y9k5</td>\n",
              "      <td>0.17125</td>\n",
              "      <td>0.255625</td>\n",
              "      <td>0.557500</td>\n",
              "      <td>0.749167</td>\n",
              "      <td>0.20750</td>\n",
              "      <td>0.683125</td>\n",
              "      <td>0.611667</td>\n",
              "      <td>0.999167</td>\n",
              "      <td>at</td>\n",
              "    </tr>\n",
              "    <tr>\n",
              "      <th>4</th>\n",
              "      <td>0144cfbb726f4c72</td>\n",
              "      <td>/m/01mzpv</td>\n",
              "      <td>/m/04bcr3</td>\n",
              "      <td>0.85500</td>\n",
              "      <td>0.950000</td>\n",
              "      <td>0.561667</td>\n",
              "      <td>0.609167</td>\n",
              "      <td>0.82875</td>\n",
              "      <td>0.999375</td>\n",
              "      <td>0.568333</td>\n",
              "      <td>0.673333</td>\n",
              "      <td>at</td>\n",
              "    </tr>\n",
              "  </tbody>\n",
              "</table>\n",
              "</div>"
            ],
            "text/plain": [
              "            ImageID  LabelName1  ...     YMax2  RelationshipLabel\n",
              "0  fe58ec1b06db2bb7   /m/04bcr3  ...  0.627778                 is\n",
              "1  82d16a22f703df5c  /m/04dr76w  ...  0.950450                 is\n",
              "2  b54d41beabcfd900   /m/01mzpv  ...  0.778557                 is\n",
              "3  4b6a08cc110d7275   /m/01mzpv  ...  0.999167                 at\n",
              "4  0144cfbb726f4c72   /m/01mzpv  ...  0.673333                 at\n",
              "\n",
              "[5 rows x 12 columns]"
            ]
          },
          "metadata": {
            "tags": []
          },
          "execution_count": 13
        }
      ]
    },
    {
      "cell_type": "code",
      "metadata": {
        "id": "Pe5sHD2jhfz8",
        "colab_type": "code",
        "outputId": "00c76ad8-6696-4173-e75f-ded729ad0b25",
        "colab": {
          "base_uri": "https://localhost:8080/",
          "height": 202
        }
      },
      "source": [
        "df1=df_train[['ImageID','LabelName1','LabelName2']]\n",
        "df1.head()"
      ],
      "execution_count": 0,
      "outputs": [
        {
          "output_type": "execute_result",
          "data": {
            "text/html": [
              "<div>\n",
              "<style scoped>\n",
              "    .dataframe tbody tr th:only-of-type {\n",
              "        vertical-align: middle;\n",
              "    }\n",
              "\n",
              "    .dataframe tbody tr th {\n",
              "        vertical-align: top;\n",
              "    }\n",
              "\n",
              "    .dataframe thead th {\n",
              "        text-align: right;\n",
              "    }\n",
              "</style>\n",
              "<table border=\"1\" class=\"dataframe\">\n",
              "  <thead>\n",
              "    <tr style=\"text-align: right;\">\n",
              "      <th></th>\n",
              "      <th>ImageID</th>\n",
              "      <th>LabelName1</th>\n",
              "      <th>LabelName2</th>\n",
              "    </tr>\n",
              "  </thead>\n",
              "  <tbody>\n",
              "    <tr>\n",
              "      <th>0</th>\n",
              "      <td>fe58ec1b06db2bb7</td>\n",
              "      <td>/m/04bcr3</td>\n",
              "      <td>/m/083vt</td>\n",
              "    </tr>\n",
              "    <tr>\n",
              "      <th>1</th>\n",
              "      <td>82d16a22f703df5c</td>\n",
              "      <td>/m/04dr76w</td>\n",
              "      <td>/m/02gy9n</td>\n",
              "    </tr>\n",
              "    <tr>\n",
              "      <th>2</th>\n",
              "      <td>b54d41beabcfd900</td>\n",
              "      <td>/m/01mzpv</td>\n",
              "      <td>/m/083vt</td>\n",
              "    </tr>\n",
              "    <tr>\n",
              "      <th>3</th>\n",
              "      <td>4b6a08cc110d7275</td>\n",
              "      <td>/m/01mzpv</td>\n",
              "      <td>/m/01y9k5</td>\n",
              "    </tr>\n",
              "    <tr>\n",
              "      <th>4</th>\n",
              "      <td>0144cfbb726f4c72</td>\n",
              "      <td>/m/01mzpv</td>\n",
              "      <td>/m/04bcr3</td>\n",
              "    </tr>\n",
              "  </tbody>\n",
              "</table>\n",
              "</div>"
            ],
            "text/plain": [
              "            ImageID  LabelName1 LabelName2\n",
              "0  fe58ec1b06db2bb7   /m/04bcr3   /m/083vt\n",
              "1  82d16a22f703df5c  /m/04dr76w  /m/02gy9n\n",
              "2  b54d41beabcfd900   /m/01mzpv   /m/083vt\n",
              "3  4b6a08cc110d7275   /m/01mzpv  /m/01y9k5\n",
              "4  0144cfbb726f4c72   /m/01mzpv  /m/04bcr3"
            ]
          },
          "metadata": {
            "tags": []
          },
          "execution_count": 14
        }
      ]
    },
    {
      "cell_type": "code",
      "metadata": {
        "id": "WLZhokdYiCHK",
        "colab_type": "code",
        "colab": {}
      },
      "source": [
        "df2 = pd.concat([df1,pd.get_dummies(df1['LabelName2'])],axis=1)\n",
        "# now drop the original 'country' column (you don't need it anymore)\n",
        "df2.drop(['LabelName2'],axis=1, inplace=True)"
      ],
      "execution_count": 0,
      "outputs": []
    },
    {
      "cell_type": "markdown",
      "metadata": {
        "id": "Lsk9PpghkMN1",
        "colab_type": "text"
      },
      "source": [
        "\n",
        "\n",
        "```\n",
        "# This is formatted as code\n",
        "```\n",
        "\n"
      ]
    },
    {
      "cell_type": "code",
      "metadata": {
        "id": "MhUUIr8DKkgt",
        "colab_type": "code",
        "colab": {}
      },
      "source": [
        "df2=df2[['ImageID','LabelName1','/m/02gy9n','/m/0dnr7','/m/05z87','/m/04lbp','/m/083vt']]"
      ],
      "execution_count": 0,
      "outputs": []
    },
    {
      "cell_type": "code",
      "metadata": {
        "id": "bDgS5nYRL9Ro",
        "colab_type": "code",
        "colab": {}
      },
      "source": [
        "df2['None']=0"
      ],
      "execution_count": 0,
      "outputs": []
    },
    {
      "cell_type": "code",
      "metadata": {
        "id": "1btvBhvQMLRM",
        "colab_type": "code",
        "outputId": "622dba95-d77c-4b78-dad1-1e6809a7d949",
        "colab": {
          "base_uri": "https://localhost:8080/",
          "height": 103
        }
      },
      "source": [
        "for index, row in df.iterrows():\n",
        "  if df2[\"/m/02gy9n\"][index]+df2['/m/0dnr7'][index]+df2['/m/05z87'][index]+df2['/m/04lbp'][index]+df2['/m/083vt'][index]==0:\n",
        "    df2['None'][index]=1"
      ],
      "execution_count": 0,
      "outputs": [
        {
          "output_type": "stream",
          "text": [
            "/usr/local/lib/python3.6/dist-packages/ipykernel_launcher.py:3: SettingWithCopyWarning: \n",
            "A value is trying to be set on a copy of a slice from a DataFrame\n",
            "\n",
            "See the caveats in the documentation: http://pandas.pydata.org/pandas-docs/stable/indexing.html#indexing-view-versus-copy\n",
            "  This is separate from the ipykernel package so we can avoid doing imports until\n"
          ],
          "name": "stderr"
        }
      ]
    },
    {
      "cell_type": "code",
      "metadata": {
        "id": "zXNgXChJiwu0",
        "colab_type": "code",
        "outputId": "c883a53c-150c-4da2-8cca-9dd686f7ee20",
        "colab": {
          "base_uri": "https://localhost:8080/",
          "height": 202
        }
      },
      "source": [
        "df2.head(5)"
      ],
      "execution_count": 0,
      "outputs": [
        {
          "output_type": "execute_result",
          "data": {
            "text/html": [
              "<div>\n",
              "<style scoped>\n",
              "    .dataframe tbody tr th:only-of-type {\n",
              "        vertical-align: middle;\n",
              "    }\n",
              "\n",
              "    .dataframe tbody tr th {\n",
              "        vertical-align: top;\n",
              "    }\n",
              "\n",
              "    .dataframe thead th {\n",
              "        text-align: right;\n",
              "    }\n",
              "</style>\n",
              "<table border=\"1\" class=\"dataframe\">\n",
              "  <thead>\n",
              "    <tr style=\"text-align: right;\">\n",
              "      <th></th>\n",
              "      <th>ImageID</th>\n",
              "      <th>LabelName1</th>\n",
              "      <th>/m/02gy9n</th>\n",
              "      <th>/m/0dnr7</th>\n",
              "      <th>/m/05z87</th>\n",
              "      <th>/m/04lbp</th>\n",
              "      <th>/m/083vt</th>\n",
              "      <th>None</th>\n",
              "    </tr>\n",
              "  </thead>\n",
              "  <tbody>\n",
              "    <tr>\n",
              "      <th>0</th>\n",
              "      <td>fe58ec1b06db2bb7</td>\n",
              "      <td>/m/04bcr3</td>\n",
              "      <td>0</td>\n",
              "      <td>0</td>\n",
              "      <td>0</td>\n",
              "      <td>0</td>\n",
              "      <td>1</td>\n",
              "      <td>0</td>\n",
              "    </tr>\n",
              "    <tr>\n",
              "      <th>1</th>\n",
              "      <td>82d16a22f703df5c</td>\n",
              "      <td>/m/04dr76w</td>\n",
              "      <td>1</td>\n",
              "      <td>0</td>\n",
              "      <td>0</td>\n",
              "      <td>0</td>\n",
              "      <td>0</td>\n",
              "      <td>0</td>\n",
              "    </tr>\n",
              "    <tr>\n",
              "      <th>2</th>\n",
              "      <td>b54d41beabcfd900</td>\n",
              "      <td>/m/01mzpv</td>\n",
              "      <td>0</td>\n",
              "      <td>0</td>\n",
              "      <td>0</td>\n",
              "      <td>0</td>\n",
              "      <td>1</td>\n",
              "      <td>0</td>\n",
              "    </tr>\n",
              "    <tr>\n",
              "      <th>3</th>\n",
              "      <td>4b6a08cc110d7275</td>\n",
              "      <td>/m/01mzpv</td>\n",
              "      <td>0</td>\n",
              "      <td>0</td>\n",
              "      <td>0</td>\n",
              "      <td>0</td>\n",
              "      <td>0</td>\n",
              "      <td>1</td>\n",
              "    </tr>\n",
              "    <tr>\n",
              "      <th>4</th>\n",
              "      <td>0144cfbb726f4c72</td>\n",
              "      <td>/m/01mzpv</td>\n",
              "      <td>0</td>\n",
              "      <td>0</td>\n",
              "      <td>0</td>\n",
              "      <td>0</td>\n",
              "      <td>0</td>\n",
              "      <td>1</td>\n",
              "    </tr>\n",
              "  </tbody>\n",
              "</table>\n",
              "</div>"
            ],
            "text/plain": [
              "            ImageID  LabelName1  /m/02gy9n  ...  /m/04lbp  /m/083vt  None\n",
              "0  fe58ec1b06db2bb7   /m/04bcr3          0  ...         0         1     0\n",
              "1  82d16a22f703df5c  /m/04dr76w          1  ...         0         0     0\n",
              "2  b54d41beabcfd900   /m/01mzpv          0  ...         0         1     0\n",
              "3  4b6a08cc110d7275   /m/01mzpv          0  ...         0         0     1\n",
              "4  0144cfbb726f4c72   /m/01mzpv          0  ...         0         0     1\n",
              "\n",
              "[5 rows x 8 columns]"
            ]
          },
          "metadata": {
            "tags": []
          },
          "execution_count": 29
        }
      ]
    },
    {
      "cell_type": "code",
      "metadata": {
        "id": "BjGV9W9am5AC",
        "colab_type": "code",
        "colab": {}
      },
      "source": [
        "df.to_csv(r'content/drive/My Drive/PATH_TO_OUTPUT/df2.csv')"
      ],
      "execution_count": 0,
      "outputs": []
    },
    {
      "cell_type": "code",
      "metadata": {
        "id": "MpPySvgAoKDy",
        "colab_type": "code",
        "outputId": "7c10cfbc-7c8a-44fa-8414-f965d4aad186",
        "colab": {
          "base_uri": "https://localhost:8080/",
          "height": 34
        }
      },
      "source": [
        "cd .."
      ],
      "execution_count": 0,
      "outputs": [
        {
          "output_type": "stream",
          "text": [
            "/\n"
          ],
          "name": "stdout"
        }
      ]
    },
    {
      "cell_type": "code",
      "metadata": {
        "id": "1AoGzw7do2XJ",
        "colab_type": "code",
        "outputId": "f2c74317-69df-4781-e22d-3618b77094a4",
        "colab": {
          "base_uri": "https://localhost:8080/",
          "height": 165
        }
      },
      "source": [
        "X.shape"
      ],
      "execution_count": 0,
      "outputs": [
        {
          "output_type": "error",
          "ename": "NameError",
          "evalue": "ignored",
          "traceback": [
            "\u001b[0;31m---------------------------------------------------------------------------\u001b[0m",
            "\u001b[0;31mNameError\u001b[0m                                 Traceback (most recent call last)",
            "\u001b[0;32m<ipython-input-19-bc5f1a0adac8>\u001b[0m in \u001b[0;36m<module>\u001b[0;34m()\u001b[0m\n\u001b[0;32m----> 1\u001b[0;31m \u001b[0mX\u001b[0m\u001b[0;34m.\u001b[0m\u001b[0mshape\u001b[0m\u001b[0;34m\u001b[0m\u001b[0;34m\u001b[0m\u001b[0m\n\u001b[0m",
            "\u001b[0;31mNameError\u001b[0m: name 'X' is not defined"
          ]
        }
      ]
    },
    {
      "cell_type": "code",
      "metadata": {
        "id": "qb1GcAGStVb-",
        "colab_type": "code",
        "colab": {}
      },
      "source": [
        "model = Sequential()\n",
        "model.add(Conv2D(filters=16, kernel_size=(5, 5), activation=\"relu\", input_shape=(400,400,3)))\n",
        "model.add(MaxPooling2D(pool_size=(2, 2)))\n",
        "model.add(Dropout(0.25))\n",
        "model.add(Conv2D(filters=32, kernel_size=(5, 5), activation='relu'))\n",
        "model.add(MaxPooling2D(pool_size=(2, 2)))\n",
        "model.add(Dropout(0.25))\n",
        "model.add(Conv2D(filters=64, kernel_size=(5, 5), activation=\"relu\"))\n",
        "model.add(MaxPooling2D(pool_size=(2, 2)))\n",
        "model.add(Dropout(0.25))\n",
        "model.add(Conv2D(filters=64, kernel_size=(5, 5), activation='relu'))\n",
        "model.add(MaxPooling2D(pool_size=(2, 2)))\n",
        "model.add(Dropout(0.25))\n",
        "model.add(Flatten())\n",
        "model.add(Dense(128, activation='relu'))\n",
        "model.add(Dropout(0.5))\n",
        "model.add(Dense(64, activation='relu'))\n",
        "model.add(Dropout(0.5))\n",
        "model.add(Dense(6, activation='sigmoid'))"
      ],
      "execution_count": 0,
      "outputs": []
    },
    {
      "cell_type": "code",
      "metadata": {
        "id": "6Ecb0UGXtWQq",
        "colab_type": "code",
        "outputId": "ff6acbee-ac29-4067-a503-30785c52fa6c",
        "colab": {
          "base_uri": "https://localhost:8080/",
          "height": 748
        }
      },
      "source": [
        "model.summary()"
      ],
      "execution_count": 0,
      "outputs": [
        {
          "output_type": "stream",
          "text": [
            "_________________________________________________________________\n",
            "Layer (type)                 Output Shape              Param #   \n",
            "=================================================================\n",
            "conv2d_5 (Conv2D)            (None, 396, 396, 16)      1216      \n",
            "_________________________________________________________________\n",
            "max_pooling2d_5 (MaxPooling2 (None, 198, 198, 16)      0         \n",
            "_________________________________________________________________\n",
            "dropout_7 (Dropout)          (None, 198, 198, 16)      0         \n",
            "_________________________________________________________________\n",
            "conv2d_6 (Conv2D)            (None, 194, 194, 32)      12832     \n",
            "_________________________________________________________________\n",
            "max_pooling2d_6 (MaxPooling2 (None, 97, 97, 32)        0         \n",
            "_________________________________________________________________\n",
            "dropout_8 (Dropout)          (None, 97, 97, 32)        0         \n",
            "_________________________________________________________________\n",
            "conv2d_7 (Conv2D)            (None, 93, 93, 64)        51264     \n",
            "_________________________________________________________________\n",
            "max_pooling2d_7 (MaxPooling2 (None, 46, 46, 64)        0         \n",
            "_________________________________________________________________\n",
            "dropout_9 (Dropout)          (None, 46, 46, 64)        0         \n",
            "_________________________________________________________________\n",
            "conv2d_8 (Conv2D)            (None, 42, 42, 64)        102464    \n",
            "_________________________________________________________________\n",
            "max_pooling2d_8 (MaxPooling2 (None, 21, 21, 64)        0         \n",
            "_________________________________________________________________\n",
            "dropout_10 (Dropout)         (None, 21, 21, 64)        0         \n",
            "_________________________________________________________________\n",
            "flatten_2 (Flatten)          (None, 28224)             0         \n",
            "_________________________________________________________________\n",
            "dense_4 (Dense)              (None, 128)               3612800   \n",
            "_________________________________________________________________\n",
            "dropout_11 (Dropout)         (None, 128)               0         \n",
            "_________________________________________________________________\n",
            "dense_5 (Dense)              (None, 64)                8256      \n",
            "_________________________________________________________________\n",
            "dropout_12 (Dropout)         (None, 64)                0         \n",
            "_________________________________________________________________\n",
            "dense_6 (Dense)              (None, 5)                 325       \n",
            "=================================================================\n",
            "Total params: 3,789,157\n",
            "Trainable params: 3,789,157\n",
            "Non-trainable params: 0\n",
            "_________________________________________________________________\n"
          ],
          "name": "stdout"
        }
      ]
    },
    {
      "cell_type": "code",
      "metadata": {
        "id": "xuYzf1yGtaCW",
        "colab_type": "code",
        "outputId": "a9d20d5a-ebc9-4137-dbd0-6b05dafac7a7",
        "colab": {
          "base_uri": "https://localhost:8080/",
          "height": 34
        }
      },
      "source": [
        "y = np.array(df2.drop(['ImageID','LabelName1'],axis=1))\n",
        "y.shape"
      ],
      "execution_count": 0,
      "outputs": [
        {
          "output_type": "execute_result",
          "data": {
            "text/plain": [
              "(194142, 5)"
            ]
          },
          "metadata": {
            "tags": []
          },
          "execution_count": 21
        }
      ]
    },
    {
      "cell_type": "code",
      "metadata": {
        "id": "Yh6ZoQlt24rU",
        "colab_type": "code",
        "colab": {}
      },
      "source": [
        "X_train, X_test, y_train, y_test = train_test_split(X, y, random_state=42, test_size=0.1)"
      ],
      "execution_count": 0,
      "outputs": []
    },
    {
      "cell_type": "code",
      "metadata": {
        "id": "mD5MP-0S2-La",
        "colab_type": "code",
        "colab": {}
      },
      "source": [
        "model.compile(optimizer='adam', loss='binary_crossentropy', metrics=['accuracy'])"
      ],
      "execution_count": 0,
      "outputs": []
    },
    {
      "cell_type": "code",
      "metadata": {
        "id": "LYm32C3t5zB1",
        "colab_type": "code",
        "outputId": "57911108-165c-45c5-d2ee-6f444cce6e5a",
        "colab": {
          "base_uri": "https://localhost:8080/",
          "height": 391
        }
      },
      "source": [
        "model.fit(X_train, y_train, epochs=10, validation_data=(X_test, y_test), batch_size=64)"
      ],
      "execution_count": 0,
      "outputs": [
        {
          "output_type": "stream",
          "text": [
            "Train on 64 samples, validate on 8 samples\n",
            "Epoch 1/10\n",
            "64/64 [==============================] - 8s 127ms/step - loss: 0.6918 - acc: 0.6531 - val_loss: 0.6431 - val_acc: 0.8000\n",
            "Epoch 2/10\n",
            "64/64 [==============================] - 1s 12ms/step - loss: 0.5838 - acc: 0.7281 - val_loss: 0.5154 - val_acc: 0.8000\n",
            "Epoch 3/10\n",
            "64/64 [==============================] - 1s 12ms/step - loss: 0.5377 - acc: 0.7406 - val_loss: 0.4598 - val_acc: 0.8000\n",
            "Epoch 4/10\n",
            "64/64 [==============================] - 1s 12ms/step - loss: 0.5351 - acc: 0.7688 - val_loss: 0.4557 - val_acc: 0.8000\n",
            "Epoch 5/10\n",
            "64/64 [==============================] - 1s 13ms/step - loss: 0.5163 - acc: 0.7688 - val_loss: 0.4476 - val_acc: 0.8000\n",
            "Epoch 6/10\n",
            "64/64 [==============================] - 1s 12ms/step - loss: 0.5167 - acc: 0.7781 - val_loss: 0.4376 - val_acc: 0.8000\n",
            "Epoch 7/10\n",
            "64/64 [==============================] - 1s 13ms/step - loss: 0.5209 - acc: 0.7594 - val_loss: 0.4352 - val_acc: 0.8000\n",
            "Epoch 8/10\n",
            "64/64 [==============================] - 1s 14ms/step - loss: 0.5166 - acc: 0.7719 - val_loss: 0.4275 - val_acc: 0.8000\n",
            "Epoch 9/10\n",
            "64/64 [==============================] - 1s 13ms/step - loss: 0.5084 - acc: 0.7813 - val_loss: 0.4362 - val_acc: 0.8000\n",
            "Epoch 10/10\n",
            "64/64 [==============================] - 1s 13ms/step - loss: 0.4795 - acc: 0.7938 - val_loss: 0.4387 - val_acc: 0.8000\n"
          ],
          "name": "stdout"
        },
        {
          "output_type": "execute_result",
          "data": {
            "text/plain": [
              "<keras.callbacks.History at 0x7fc995cf7240>"
            ]
          },
          "metadata": {
            "tags": []
          },
          "execution_count": 67
        }
      ]
    },
    {
      "cell_type": "code",
      "metadata": {
        "id": "pjsZ44Es9GfY",
        "colab_type": "code",
        "outputId": "013f6924-dc31-4caf-a747-77bc49b72a42",
        "colab": {
          "base_uri": "https://localhost:8080/",
          "height": 34
        }
      },
      "source": [
        "cd content/drive/My Drive/PATH_TO_OUTPUT/MELVIN"
      ],
      "execution_count": 0,
      "outputs": [
        {
          "output_type": "stream",
          "text": [
            "/content/drive/My Drive/PATH_TO_OUTPUT/MELVIN\n"
          ],
          "name": "stdout"
        }
      ]
    },
    {
      "cell_type": "code",
      "metadata": {
        "id": "HE1DZxtU5y6V",
        "colab_type": "code",
        "colab": {}
      },
      "source": [
        "img = image.load_img('0a4f39ffd059e1a2.jpg',target_size=(400,400,3))\n",
        "img = image.img_to_array(img)\n",
        "img = img/255"
      ],
      "execution_count": 0,
      "outputs": []
    },
    {
      "cell_type": "code",
      "metadata": {
        "id": "lcdzKIpv5ybO",
        "colab_type": "code",
        "outputId": "ab430fe6-ac57-4d36-d20f-56a2cd1bca70",
        "colab": {
          "base_uri": "https://localhost:8080/",
          "height": 51
        }
      },
      "source": [
        "classes = np.array(df2.columns[2:])\n",
        "proba = model.predict(img.reshape(1,400,400,3))\n",
        "proba"
      ],
      "execution_count": 0,
      "outputs": [
        {
          "output_type": "execute_result",
          "data": {
            "text/plain": [
              "array([[0.14653268, 0.15097013, 0.35855538, 0.38355398, 0.23789787]],\n",
              "      dtype=float32)"
            ]
          },
          "metadata": {
            "tags": []
          },
          "execution_count": 93
        }
      ]
    },
    {
      "cell_type": "code",
      "metadata": {
        "id": "BJLNar809bnK",
        "colab_type": "code",
        "outputId": "8dd49f58-9bfc-499b-e79c-9a970831e380",
        "colab": {
          "base_uri": "https://localhost:8080/",
          "height": 303
        }
      },
      "source": [
        "top = np.argsort(proba[0])\n",
        "for i in range(1):\n",
        "    print(\"{}\".format(classes[top[i]])+\" ({:.2})\".format(proba[0][top[i]]))\n",
        "plt.imshow(img)"
      ],
      "execution_count": 0,
      "outputs": [
        {
          "output_type": "stream",
          "text": [
            "/m/04lbp (0.14)\n"
          ],
          "name": "stdout"
        },
        {
          "output_type": "execute_result",
          "data": {
            "text/plain": [
              "<matplotlib.image.AxesImage at 0x7fc9862ef630>"
            ]
          },
          "metadata": {
            "tags": []
          },
          "execution_count": 91
        },
        {
          "output_type": "display_data",
          "data": {
            "image/png": "[encoded data removed]",
            "text/plain": [
              "<Figure size 432x288 with 1 Axes>"
            ]
          },
          "metadata": {
            "tags": []
          }
        }
      ]
    },
    {
      "cell_type": "code",
      "metadata": {
        "id": "H9Sqhd9mffhT",
        "colab_type": "code",
        "colab": {}
      },
      "source": [
        ""
      ],
      "execution_count": 0,
      "outputs": []
    },
    {
      "cell_type": "code",
      "metadata": {
        "id": "tPby03seI8hJ",
        "colab_type": "code",
        "colab": {}
      },
      "source": [
        ""
      ],
      "execution_count": 0,
      "outputs": []
    },
    {
      "cell_type": "code",
      "metadata": {
        "id": "a2Xk5fW7feNt",
        "colab_type": "code",
        "colab": {}
      },
      "source": [
        ""
      ],
      "execution_count": 0,
      "outputs": []
    }
  ]
}